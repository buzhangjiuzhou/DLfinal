{
  "nbformat": 4,
  "nbformat_minor": 0,
  "metadata": {
    "colab": {
      "name": "bert_AGnews_3.ipynb",
      "provenance": [],
      "collapsed_sections": [],
      "include_colab_link": true
    },
    "kernelspec": {
      "name": "python3",
      "display_name": "Python 3"
    },
    "accelerator": "GPU",
    "widgets": {
      "application/vnd.jupyter.widget-state+json": {
        "27c131173ae44721ad363151e136f38b": {
          "model_module": "@jupyter-widgets/controls",
          "model_name": "HBoxModel",
          "state": {
            "_view_name": "HBoxView",
            "_dom_classes": [],
            "_model_name": "HBoxModel",
            "_view_module": "@jupyter-widgets/controls",
            "_model_module_version": "1.5.0",
            "_view_count": null,
            "_view_module_version": "1.5.0",
            "box_style": "",
            "layout": "IPY_MODEL_449ead5f97214da085f83da47549eaca",
            "_model_module": "@jupyter-widgets/controls",
            "children": [
              "IPY_MODEL_41396060bcad44b5b531fda428f8c8c9",
              "IPY_MODEL_d7791e6e57a9476ca3f1d7c50d7a381c"
            ]
          }
        },
        "449ead5f97214da085f83da47549eaca": {
          "model_module": "@jupyter-widgets/base",
          "model_name": "LayoutModel",
          "state": {
            "_view_name": "LayoutView",
            "grid_template_rows": null,
            "right": null,
            "justify_content": null,
            "_view_module": "@jupyter-widgets/base",
            "overflow": null,
            "_model_module_version": "1.2.0",
            "_view_count": null,
            "flex_flow": null,
            "width": null,
            "min_width": null,
            "border": null,
            "align_items": null,
            "bottom": null,
            "_model_module": "@jupyter-widgets/base",
            "top": null,
            "grid_column": null,
            "overflow_y": null,
            "overflow_x": null,
            "grid_auto_flow": null,
            "grid_area": null,
            "grid_template_columns": null,
            "flex": null,
            "_model_name": "LayoutModel",
            "justify_items": null,
            "grid_row": null,
            "max_height": null,
            "align_content": null,
            "visibility": null,
            "align_self": null,
            "height": null,
            "min_height": null,
            "padding": null,
            "grid_auto_rows": null,
            "grid_gap": null,
            "max_width": null,
            "order": null,
            "_view_module_version": "1.2.0",
            "grid_template_areas": null,
            "object_position": null,
            "object_fit": null,
            "grid_auto_columns": null,
            "margin": null,
            "display": null,
            "left": null
          }
        },
        "41396060bcad44b5b531fda428f8c8c9": {
          "model_module": "@jupyter-widgets/controls",
          "model_name": "FloatProgressModel",
          "state": {
            "_view_name": "ProgressView",
            "style": "IPY_MODEL_4cf28f4cf2f24640999757ca64cc4c9f",
            "_dom_classes": [],
            "description": "100%",
            "_model_name": "FloatProgressModel",
            "bar_style": "success",
            "max": 120000,
            "_view_module": "@jupyter-widgets/controls",
            "_model_module_version": "1.5.0",
            "value": 120000,
            "_view_count": null,
            "_view_module_version": "1.5.0",
            "orientation": "horizontal",
            "min": 0,
            "description_tooltip": null,
            "_model_module": "@jupyter-widgets/controls",
            "layout": "IPY_MODEL_ef7c0e5130ad42fd922ce7df0fcb058d"
          }
        },
        "d7791e6e57a9476ca3f1d7c50d7a381c": {
          "model_module": "@jupyter-widgets/controls",
          "model_name": "HTMLModel",
          "state": {
            "_view_name": "HTMLView",
            "style": "IPY_MODEL_22e0c5c5480e44c8879628c7e614876d",
            "_dom_classes": [],
            "description": "",
            "_model_name": "HTMLModel",
            "placeholder": "​",
            "_view_module": "@jupyter-widgets/controls",
            "_model_module_version": "1.5.0",
            "value": " 120000/120000 [17:21&lt;00:00, 115.22it/s]",
            "_view_count": null,
            "_view_module_version": "1.5.0",
            "description_tooltip": null,
            "_model_module": "@jupyter-widgets/controls",
            "layout": "IPY_MODEL_17648454adbe4344916c693af7dadc48"
          }
        },
        "4cf28f4cf2f24640999757ca64cc4c9f": {
          "model_module": "@jupyter-widgets/controls",
          "model_name": "ProgressStyleModel",
          "state": {
            "_view_name": "StyleView",
            "_model_name": "ProgressStyleModel",
            "description_width": "initial",
            "_view_module": "@jupyter-widgets/base",
            "_model_module_version": "1.5.0",
            "_view_count": null,
            "_view_module_version": "1.2.0",
            "bar_color": null,
            "_model_module": "@jupyter-widgets/controls"
          }
        },
        "ef7c0e5130ad42fd922ce7df0fcb058d": {
          "model_module": "@jupyter-widgets/base",
          "model_name": "LayoutModel",
          "state": {
            "_view_name": "LayoutView",
            "grid_template_rows": null,
            "right": null,
            "justify_content": null,
            "_view_module": "@jupyter-widgets/base",
            "overflow": null,
            "_model_module_version": "1.2.0",
            "_view_count": null,
            "flex_flow": null,
            "width": null,
            "min_width": null,
            "border": null,
            "align_items": null,
            "bottom": null,
            "_model_module": "@jupyter-widgets/base",
            "top": null,
            "grid_column": null,
            "overflow_y": null,
            "overflow_x": null,
            "grid_auto_flow": null,
            "grid_area": null,
            "grid_template_columns": null,
            "flex": null,
            "_model_name": "LayoutModel",
            "justify_items": null,
            "grid_row": null,
            "max_height": null,
            "align_content": null,
            "visibility": null,
            "align_self": null,
            "height": null,
            "min_height": null,
            "padding": null,
            "grid_auto_rows": null,
            "grid_gap": null,
            "max_width": null,
            "order": null,
            "_view_module_version": "1.2.0",
            "grid_template_areas": null,
            "object_position": null,
            "object_fit": null,
            "grid_auto_columns": null,
            "margin": null,
            "display": null,
            "left": null
          }
        },
        "22e0c5c5480e44c8879628c7e614876d": {
          "model_module": "@jupyter-widgets/controls",
          "model_name": "DescriptionStyleModel",
          "state": {
            "_view_name": "StyleView",
            "_model_name": "DescriptionStyleModel",
            "description_width": "",
            "_view_module": "@jupyter-widgets/base",
            "_model_module_version": "1.5.0",
            "_view_count": null,
            "_view_module_version": "1.2.0",
            "_model_module": "@jupyter-widgets/controls"
          }
        },
        "17648454adbe4344916c693af7dadc48": {
          "model_module": "@jupyter-widgets/base",
          "model_name": "LayoutModel",
          "state": {
            "_view_name": "LayoutView",
            "grid_template_rows": null,
            "right": null,
            "justify_content": null,
            "_view_module": "@jupyter-widgets/base",
            "overflow": null,
            "_model_module_version": "1.2.0",
            "_view_count": null,
            "flex_flow": null,
            "width": null,
            "min_width": null,
            "border": null,
            "align_items": null,
            "bottom": null,
            "_model_module": "@jupyter-widgets/base",
            "top": null,
            "grid_column": null,
            "overflow_y": null,
            "overflow_x": null,
            "grid_auto_flow": null,
            "grid_area": null,
            "grid_template_columns": null,
            "flex": null,
            "_model_name": "LayoutModel",
            "justify_items": null,
            "grid_row": null,
            "max_height": null,
            "align_content": null,
            "visibility": null,
            "align_self": null,
            "height": null,
            "min_height": null,
            "padding": null,
            "grid_auto_rows": null,
            "grid_gap": null,
            "max_width": null,
            "order": null,
            "_view_module_version": "1.2.0",
            "grid_template_areas": null,
            "object_position": null,
            "object_fit": null,
            "grid_auto_columns": null,
            "margin": null,
            "display": null,
            "left": null
          }
        },
        "7363daf3946e4657bc5d69e6bab023a1": {
          "model_module": "@jupyter-widgets/controls",
          "model_name": "HBoxModel",
          "state": {
            "_view_name": "HBoxView",
            "_dom_classes": [],
            "_model_name": "HBoxModel",
            "_view_module": "@jupyter-widgets/controls",
            "_model_module_version": "1.5.0",
            "_view_count": null,
            "_view_module_version": "1.5.0",
            "box_style": "",
            "layout": "IPY_MODEL_976c1e14f8c446298ce05d77928f95dd",
            "_model_module": "@jupyter-widgets/controls",
            "children": [
              "IPY_MODEL_4a859fa8104b418b8d18aa650c0c8d01",
              "IPY_MODEL_368bb0d61d924569aad99b8caf88e5e5"
            ]
          }
        },
        "976c1e14f8c446298ce05d77928f95dd": {
          "model_module": "@jupyter-widgets/base",
          "model_name": "LayoutModel",
          "state": {
            "_view_name": "LayoutView",
            "grid_template_rows": null,
            "right": null,
            "justify_content": null,
            "_view_module": "@jupyter-widgets/base",
            "overflow": null,
            "_model_module_version": "1.2.0",
            "_view_count": null,
            "flex_flow": null,
            "width": null,
            "min_width": null,
            "border": null,
            "align_items": null,
            "bottom": null,
            "_model_module": "@jupyter-widgets/base",
            "top": null,
            "grid_column": null,
            "overflow_y": null,
            "overflow_x": null,
            "grid_auto_flow": null,
            "grid_area": null,
            "grid_template_columns": null,
            "flex": null,
            "_model_name": "LayoutModel",
            "justify_items": null,
            "grid_row": null,
            "max_height": null,
            "align_content": null,
            "visibility": null,
            "align_self": null,
            "height": null,
            "min_height": null,
            "padding": null,
            "grid_auto_rows": null,
            "grid_gap": null,
            "max_width": null,
            "order": null,
            "_view_module_version": "1.2.0",
            "grid_template_areas": null,
            "object_position": null,
            "object_fit": null,
            "grid_auto_columns": null,
            "margin": null,
            "display": null,
            "left": null
          }
        },
        "4a859fa8104b418b8d18aa650c0c8d01": {
          "model_module": "@jupyter-widgets/controls",
          "model_name": "FloatProgressModel",
          "state": {
            "_view_name": "ProgressView",
            "style": "IPY_MODEL_681b9ca1bdf841b4a97903aeca855ccd",
            "_dom_classes": [],
            "description": "100%",
            "_model_name": "FloatProgressModel",
            "bar_style": "success",
            "max": 7600,
            "_view_module": "@jupyter-widgets/controls",
            "_model_module_version": "1.5.0",
            "value": 7600,
            "_view_count": null,
            "_view_module_version": "1.5.0",
            "orientation": "horizontal",
            "min": 0,
            "description_tooltip": null,
            "_model_module": "@jupyter-widgets/controls",
            "layout": "IPY_MODEL_baa9428c95044c26ac3acf2ec9ec8b3b"
          }
        },
        "368bb0d61d924569aad99b8caf88e5e5": {
          "model_module": "@jupyter-widgets/controls",
          "model_name": "HTMLModel",
          "state": {
            "_view_name": "HTMLView",
            "style": "IPY_MODEL_917510f2807844c18d64a6f1a449a511",
            "_dom_classes": [],
            "description": "",
            "_model_name": "HTMLModel",
            "placeholder": "​",
            "_view_module": "@jupyter-widgets/controls",
            "_model_module_version": "1.5.0",
            "value": " 7600/7600 [16:07&lt;00:00,  7.86it/s]",
            "_view_count": null,
            "_view_module_version": "1.5.0",
            "description_tooltip": null,
            "_model_module": "@jupyter-widgets/controls",
            "layout": "IPY_MODEL_6814a78b113a49e89a97f26a583e4149"
          }
        },
        "681b9ca1bdf841b4a97903aeca855ccd": {
          "model_module": "@jupyter-widgets/controls",
          "model_name": "ProgressStyleModel",
          "state": {
            "_view_name": "StyleView",
            "_model_name": "ProgressStyleModel",
            "description_width": "initial",
            "_view_module": "@jupyter-widgets/base",
            "_model_module_version": "1.5.0",
            "_view_count": null,
            "_view_module_version": "1.2.0",
            "bar_color": null,
            "_model_module": "@jupyter-widgets/controls"
          }
        },
        "baa9428c95044c26ac3acf2ec9ec8b3b": {
          "model_module": "@jupyter-widgets/base",
          "model_name": "LayoutModel",
          "state": {
            "_view_name": "LayoutView",
            "grid_template_rows": null,
            "right": null,
            "justify_content": null,
            "_view_module": "@jupyter-widgets/base",
            "overflow": null,
            "_model_module_version": "1.2.0",
            "_view_count": null,
            "flex_flow": null,
            "width": null,
            "min_width": null,
            "border": null,
            "align_items": null,
            "bottom": null,
            "_model_module": "@jupyter-widgets/base",
            "top": null,
            "grid_column": null,
            "overflow_y": null,
            "overflow_x": null,
            "grid_auto_flow": null,
            "grid_area": null,
            "grid_template_columns": null,
            "flex": null,
            "_model_name": "LayoutModel",
            "justify_items": null,
            "grid_row": null,
            "max_height": null,
            "align_content": null,
            "visibility": null,
            "align_self": null,
            "height": null,
            "min_height": null,
            "padding": null,
            "grid_auto_rows": null,
            "grid_gap": null,
            "max_width": null,
            "order": null,
            "_view_module_version": "1.2.0",
            "grid_template_areas": null,
            "object_position": null,
            "object_fit": null,
            "grid_auto_columns": null,
            "margin": null,
            "display": null,
            "left": null
          }
        },
        "917510f2807844c18d64a6f1a449a511": {
          "model_module": "@jupyter-widgets/controls",
          "model_name": "DescriptionStyleModel",
          "state": {
            "_view_name": "StyleView",
            "_model_name": "DescriptionStyleModel",
            "description_width": "",
            "_view_module": "@jupyter-widgets/base",
            "_model_module_version": "1.5.0",
            "_view_count": null,
            "_view_module_version": "1.2.0",
            "_model_module": "@jupyter-widgets/controls"
          }
        },
        "6814a78b113a49e89a97f26a583e4149": {
          "model_module": "@jupyter-widgets/base",
          "model_name": "LayoutModel",
          "state": {
            "_view_name": "LayoutView",
            "grid_template_rows": null,
            "right": null,
            "justify_content": null,
            "_view_module": "@jupyter-widgets/base",
            "overflow": null,
            "_model_module_version": "1.2.0",
            "_view_count": null,
            "flex_flow": null,
            "width": null,
            "min_width": null,
            "border": null,
            "align_items": null,
            "bottom": null,
            "_model_module": "@jupyter-widgets/base",
            "top": null,
            "grid_column": null,
            "overflow_y": null,
            "overflow_x": null,
            "grid_auto_flow": null,
            "grid_area": null,
            "grid_template_columns": null,
            "flex": null,
            "_model_name": "LayoutModel",
            "justify_items": null,
            "grid_row": null,
            "max_height": null,
            "align_content": null,
            "visibility": null,
            "align_self": null,
            "height": null,
            "min_height": null,
            "padding": null,
            "grid_auto_rows": null,
            "grid_gap": null,
            "max_width": null,
            "order": null,
            "_view_module_version": "1.2.0",
            "grid_template_areas": null,
            "object_position": null,
            "object_fit": null,
            "grid_auto_columns": null,
            "margin": null,
            "display": null,
            "left": null
          }
        }
      }
    }
  },
  "cells": [
    {
      "cell_type": "markdown",
      "metadata": {
        "id": "view-in-github",
        "colab_type": "text"
      },
      "source": [
        "<a href=\"https://colab.research.google.com/github/DanielDLX/DLfinal/blob/master/bert_AGnews_3.ipynb\" target=\"_parent\"><img src=\"https://colab.research.google.com/assets/colab-badge.svg\" alt=\"Open In Colab\"/></a>"
      ]
    },
    {
      "cell_type": "code",
      "metadata": {
        "id": "Xx1UegbARdfH",
        "colab_type": "code",
        "colab": {
          "base_uri": "https://localhost:8080/",
          "height": 377
        },
        "outputId": "c6c4c3f5-e667-44ce-953b-5882d704058c"
      },
      "source": [
        "# 导入包\n",
        "# transformer提供了一些训练好的模型，可以很方便的使用。\n",
        "!pip install transformers\n",
        "import tensorflow as tf\n",
        "import pandas as pd\n",
        "import os\n",
        "import numpy as np\n",
        "import sklearn\n",
        "from sklearn.manifold import TSNE\n",
        "import tqdm\n",
        "# 使用分类的模型，增加了一个head用于分类。\n",
        "from transformers import BertTokenizer, TFBertForSequenceClassification, BertConfig\n",
        "from sklearn.model_selection import train_test_split\n",
        "import matplotlib.pyplot as plt\n",
        "import math\n",
        "% matplotlib inline\n",
        "\n",
        "tf.__version__"
      ],
      "execution_count": 56,
      "outputs": [
        {
          "output_type": "stream",
          "text": [
            "Requirement already satisfied: transformers in /usr/local/lib/python3.6/dist-packages (3.0.2)\n",
            "Requirement already satisfied: sacremoses in /usr/local/lib/python3.6/dist-packages (from transformers) (0.0.43)\n",
            "Requirement already satisfied: dataclasses; python_version < \"3.7\" in /usr/local/lib/python3.6/dist-packages (from transformers) (0.7)\n",
            "Requirement already satisfied: numpy in /usr/local/lib/python3.6/dist-packages (from transformers) (1.18.5)\n",
            "Requirement already satisfied: packaging in /usr/local/lib/python3.6/dist-packages (from transformers) (20.4)\n",
            "Requirement already satisfied: tqdm>=4.27 in /usr/local/lib/python3.6/dist-packages (from transformers) (4.41.1)\n",
            "Requirement already satisfied: requests in /usr/local/lib/python3.6/dist-packages (from transformers) (2.23.0)\n",
            "Requirement already satisfied: filelock in /usr/local/lib/python3.6/dist-packages (from transformers) (3.0.12)\n",
            "Requirement already satisfied: sentencepiece!=0.1.92 in /usr/local/lib/python3.6/dist-packages (from transformers) (0.1.91)\n",
            "Requirement already satisfied: regex!=2019.12.17 in /usr/local/lib/python3.6/dist-packages (from transformers) (2019.12.20)\n",
            "Requirement already satisfied: tokenizers==0.8.1.rc1 in /usr/local/lib/python3.6/dist-packages (from transformers) (0.8.1rc1)\n",
            "Requirement already satisfied: click in /usr/local/lib/python3.6/dist-packages (from sacremoses->transformers) (7.1.2)\n",
            "Requirement already satisfied: joblib in /usr/local/lib/python3.6/dist-packages (from sacremoses->transformers) (0.16.0)\n",
            "Requirement already satisfied: six in /usr/local/lib/python3.6/dist-packages (from sacremoses->transformers) (1.15.0)\n",
            "Requirement already satisfied: pyparsing>=2.0.2 in /usr/local/lib/python3.6/dist-packages (from packaging->transformers) (2.4.7)\n",
            "Requirement already satisfied: certifi>=2017.4.17 in /usr/local/lib/python3.6/dist-packages (from requests->transformers) (2020.6.20)\n",
            "Requirement already satisfied: idna<3,>=2.5 in /usr/local/lib/python3.6/dist-packages (from requests->transformers) (2.10)\n",
            "Requirement already satisfied: urllib3!=1.25.0,!=1.25.1,<1.26,>=1.21.1 in /usr/local/lib/python3.6/dist-packages (from requests->transformers) (1.24.3)\n",
            "Requirement already satisfied: chardet<4,>=3.0.2 in /usr/local/lib/python3.6/dist-packages (from requests->transformers) (3.0.4)\n"
          ],
          "name": "stdout"
        },
        {
          "output_type": "execute_result",
          "data": {
            "application/vnd.google.colaboratory.intrinsic+json": {
              "type": "string"
            },
            "text/plain": [
              "'2.2.0'"
            ]
          },
          "metadata": {
            "tags": []
          },
          "execution_count": 56
        }
      ]
    },
    {
      "cell_type": "code",
      "metadata": {
        "id": "a0giWORbAR2O",
        "colab_type": "code",
        "colab": {}
      },
      "source": [
        "# 导入现成的分词器\n",
        "tokenizer = BertTokenizer.from_pretrained('bert-base-uncased')"
      ],
      "execution_count": 57,
      "outputs": []
    },
    {
      "cell_type": "code",
      "metadata": {
        "id": "JasImGjMRqFj",
        "colab_type": "code",
        "colab": {}
      },
      "source": [
        "# 数据链接，可以在 https://course.fast.ai/datasets 找到。\n",
        "# agnews数据集，类别，标题，描述。\n",
        "ag_url = 'https://s3.amazonaws.com/fast-ai-nlp/ag_news_csv.tgz'"
      ],
      "execution_count": 58,
      "outputs": []
    },
    {
      "cell_type": "code",
      "metadata": {
        "id": "CSHGPWGtSA7E",
        "colab_type": "code",
        "colab": {
          "base_uri": "https://localhost:8080/",
          "height": 35
        },
        "outputId": "cab67bae-4c2a-4b74-8618-45eca2c31acf"
      },
      "source": [
        "# 下载数据，并指定此时数据集的目录\n",
        "ag_zip_file = tf.keras.utils.get_file(origin=ag_url,fname='ag_news_csv.tgz', extract=True)\n",
        "base_dir = os.path.join(os.path.dirname(ag_zip_file), 'ag_news_csv')\n",
        "os.listdir(base_dir)"
      ],
      "execution_count": 59,
      "outputs": [
        {
          "output_type": "execute_result",
          "data": {
            "text/plain": [
              "['test.csv', 'classes.txt', 'train.csv', 'readme.txt']"
            ]
          },
          "metadata": {
            "tags": []
          },
          "execution_count": 59
        }
      ]
    },
    {
      "cell_type": "code",
      "metadata": {
        "id": "0BYSiEligwzF",
        "colab_type": "code",
        "colab": {
          "base_uri": "https://localhost:8080/",
          "height": 359
        },
        "outputId": "a5b26bb0-ef89-49c9-c4be-a4ebf6318a87"
      },
      "source": [
        "# 读取数据\n",
        "# 为了方便测试代码的时候少用几个数据,1000个数据可以让准确率上升到0.68\n",
        "# num = 10000\n",
        "train = pd.read_csv(os.path.join(base_dir, 'train.csv'), header=None)\n",
        "# train = train.sample(n=num)\n",
        "print(len(train))\n",
        "print(train.head())\n",
        "test = pd.read_csv(os.path.join(base_dir, 'test.csv'), header=None)\n",
        "# test = test.sample(n=1000)\n",
        "print(len(test))\n",
        "print(test.head())\n",
        "f = open(os.path.join(base_dir, 'classes.txt'))\n",
        "classes = f.readlines()\n",
        "classes = [s.strip() for s in classes]\n",
        "print(classes)"
      ],
      "execution_count": 60,
      "outputs": [
        {
          "output_type": "stream",
          "text": [
            "120000\n",
            "   0  ...                                                  2\n",
            "0  3  ...  Reuters - Short-sellers, Wall Street's dwindli...\n",
            "1  3  ...  Reuters - Private investment firm Carlyle Grou...\n",
            "2  3  ...  Reuters - Soaring crude prices plus worries\\ab...\n",
            "3  3  ...  Reuters - Authorities have halted oil export\\f...\n",
            "4  3  ...  AFP - Tearaway world oil prices, toppling reco...\n",
            "\n",
            "[5 rows x 3 columns]\n",
            "7600\n",
            "   0  ...                                                  2\n",
            "0  3  ...  Unions representing workers at Turner   Newall...\n",
            "1  4  ...  SPACE.com - TORONTO, Canada -- A second\\team o...\n",
            "2  4  ...  AP - A company founded by a chemistry research...\n",
            "3  4  ...  AP - It's barely dawn when Mike Fitzpatrick st...\n",
            "4  4  ...  AP - Southern California's smog-fighting agenc...\n",
            "\n",
            "[5 rows x 3 columns]\n",
            "['World', 'Sports', 'Business', 'Sci/Tech']\n"
          ],
          "name": "stdout"
        }
      ]
    },
    {
      "cell_type": "code",
      "metadata": {
        "id": "cBGAtYI3SR8G",
        "colab_type": "code",
        "colab": {
          "base_uri": "https://localhost:8080/",
          "height": 117,
          "referenced_widgets": [
            "27c131173ae44721ad363151e136f38b",
            "449ead5f97214da085f83da47549eaca",
            "41396060bcad44b5b531fda428f8c8c9",
            "d7791e6e57a9476ca3f1d7c50d7a381c",
            "4cf28f4cf2f24640999757ca64cc4c9f",
            "ef7c0e5130ad42fd922ce7df0fcb058d",
            "22e0c5c5480e44c8879628c7e614876d",
            "17648454adbe4344916c693af7dadc48",
            "7363daf3946e4657bc5d69e6bab023a1",
            "976c1e14f8c446298ce05d77928f95dd",
            "4a859fa8104b418b8d18aa650c0c8d01",
            "368bb0d61d924569aad99b8caf88e5e5",
            "681b9ca1bdf841b4a97903aeca855ccd",
            "baa9428c95044c26ac3acf2ec9ec8b3b",
            "917510f2807844c18d64a6f1a449a511",
            "6814a78b113a49e89a97f26a583e4149"
          ]
        },
        "outputId": "569e7955-503c-4380-f4cc-03973f814736"
      },
      "source": [
        "# 预处理数据\n",
        "# 按照上面的例子把数据集中的文本进行分词处理，并且得到对应的labels。\n",
        "max_length = 128\n",
        "max_length_temp = max_length - 2\n",
        "train_ids = []\n",
        "test_ids = []\n",
        "for i in tqdm.notebook.trange(train.shape[0]):\n",
        "  if len(train[2][train[2].index[i]]) > max_length_temp:\n",
        "    train_ids.append(tokenizer.encode(text=train[2][train[2].index[i]][0 : max_length_temp], padding='max_length', max_length=max_length, return_tensors=\"tf\"))\n",
        "  else:\n",
        "    train_ids.append(tokenizer.encode(text=train[2][train[2].index[i]], padding='max_length', max_length=max_length, return_tensors=\"tf\"))\n",
        "for i in tqdm.notebook.trange(test.shape[0]):\n",
        "  if len(test[2][test[2].index[i]]) > max_length_temp:\n",
        "    test_ids.append(tokenizer.encode(text=test[2][test[2].index[i]][0 : max_length_temp], padding='max_length', max_length=max_length, return_tensors=\"tf\"))\n",
        "  else:\n",
        "    test_ids.append(tokenizer.encode(text=test[2][test[2].index[i]], padding='max_length', max_length=max_length, return_tensors=\"tf\"))\n",
        "train_labels = train[0].values - 1\n",
        "test_labels = test[0].values - 1"
      ],
      "execution_count": 61,
      "outputs": [
        {
          "output_type": "display_data",
          "data": {
            "application/vnd.jupyter.widget-view+json": {
              "model_id": "27c131173ae44721ad363151e136f38b",
              "version_minor": 0,
              "version_major": 2
            },
            "text/plain": [
              "HBox(children=(FloatProgress(value=0.0, max=120000.0), HTML(value='')))"
            ]
          },
          "metadata": {
            "tags": []
          }
        },
        {
          "output_type": "stream",
          "text": [
            "\n"
          ],
          "name": "stdout"
        },
        {
          "output_type": "display_data",
          "data": {
            "application/vnd.jupyter.widget-view+json": {
              "model_id": "7363daf3946e4657bc5d69e6bab023a1",
              "version_minor": 0,
              "version_major": 2
            },
            "text/plain": [
              "HBox(children=(FloatProgress(value=0.0, max=7600.0), HTML(value='')))"
            ]
          },
          "metadata": {
            "tags": []
          }
        },
        {
          "output_type": "stream",
          "text": [
            "\n"
          ],
          "name": "stdout"
        }
      ]
    },
    {
      "cell_type": "code",
      "metadata": {
        "id": "SucNjO6sQT9K",
        "colab_type": "code",
        "colab": {}
      },
      "source": [
        "# 把数据转成tensorflow张量\n",
        "# train_ids是tf.Tensor组成得列表，所以用concat组合一下就行\n",
        "train_ids = tf.concat(train_ids, 0)\n",
        "# 把train_mask初始化为1，然后把train_ids等于0（PAD的部分）对应的值赋为0\n",
        "train_mask = tf.ones(train_ids.shape)\n",
        "train_mask = tf.where(tf.math.greater(train_ids, 0), train_mask, 0)\n",
        "# labels本身是numpy数组，转为tf.Tensor\n",
        "train_labels = tf.convert_to_tensor(train_labels)\n",
        "\n",
        "# 测试集的处理同理test\n",
        "test_ids = tf.concat(test_ids, 0)\n",
        "test_mask = tf.ones(test_ids.shape)\n",
        "test_mask = tf.where(tf.math.greater(test_ids, 0), test_mask, 0)\n",
        "test_labels = tf.convert_to_tensor(test_labels)"
      ],
      "execution_count": 62,
      "outputs": []
    },
    {
      "cell_type": "code",
      "metadata": {
        "id": "I0aaG0cYFj2R",
        "colab_type": "code",
        "colab": {
          "base_uri": "https://localhost:8080/",
          "height": 377
        },
        "outputId": "5c3e9ed1-903a-49b7-892e-181d57866010"
      },
      "source": [
        "print(train_ids[0])\n",
        "print(train_mask[0])\n",
        "print(train_labels[0])"
      ],
      "execution_count": 63,
      "outputs": [
        {
          "output_type": "stream",
          "text": [
            "tf.Tensor(\n",
            "[  101 26665  1011  2460  1011 19041  1010  2813  2395  1005  1055  1040\n",
            " 11101  2989  1032  2316  1997 11087  1011 22330  8713  2015  1010  2024\n",
            "  3773  2665  2153  1012   102     0     0     0     0     0     0     0\n",
            "     0     0     0     0     0     0     0     0     0     0     0     0\n",
            "     0     0     0     0     0     0     0     0     0     0     0     0\n",
            "     0     0     0     0     0     0     0     0     0     0     0     0\n",
            "     0     0     0     0     0     0     0     0     0     0     0     0\n",
            "     0     0     0     0     0     0     0     0     0     0     0     0\n",
            "     0     0     0     0     0     0     0     0     0     0     0     0\n",
            "     0     0     0     0     0     0     0     0     0     0     0     0\n",
            "     0     0     0     0     0     0     0     0], shape=(128,), dtype=int32)\n",
            "tf.Tensor(\n",
            "[1. 1. 1. 1. 1. 1. 1. 1. 1. 1. 1. 1. 1. 1. 1. 1. 1. 1. 1. 1. 1. 1. 1. 1.\n",
            " 1. 1. 1. 1. 1. 0. 0. 0. 0. 0. 0. 0. 0. 0. 0. 0. 0. 0. 0. 0. 0. 0. 0. 0.\n",
            " 0. 0. 0. 0. 0. 0. 0. 0. 0. 0. 0. 0. 0. 0. 0. 0. 0. 0. 0. 0. 0. 0. 0. 0.\n",
            " 0. 0. 0. 0. 0. 0. 0. 0. 0. 0. 0. 0. 0. 0. 0. 0. 0. 0. 0. 0. 0. 0. 0. 0.\n",
            " 0. 0. 0. 0. 0. 0. 0. 0. 0. 0. 0. 0. 0. 0. 0. 0. 0. 0. 0. 0. 0. 0. 0. 0.\n",
            " 0. 0. 0. 0. 0. 0. 0. 0.], shape=(128,), dtype=float32)\n",
            "tf.Tensor(2, shape=(), dtype=int64)\n"
          ],
          "name": "stdout"
        }
      ]
    },
    {
      "cell_type": "code",
      "metadata": {
        "id": "9XUKs5A_19zE",
        "colab_type": "code",
        "colab": {}
      },
      "source": [
        "# 训练参数\n",
        "hidden_size=128\n",
        "epochs = 5\n",
        "batch_size = 256\n",
        "validation_rate = 0.1"
      ],
      "execution_count": 64,
      "outputs": []
    },
    {
      "cell_type": "code",
      "metadata": {
        "id": "iMGgvWXm3hsK",
        "colab_type": "code",
        "colab": {}
      },
      "source": [
        "# 模型放在这里\n",
        "# model = TFBertForSequenceClassification.from_pretrained(\"bert-base-uncased\", num_labels=4) # 分类类别数\n",
        "cnfg = BertConfig(hidden_size=hidden_size, num_labels=4, num_hidden_layers=6, num_attention_heads=4, intermediate_size=1024)\n",
        "model = TFBertForSequenceClassification(cnfg)\n",
        "# model.summary()\n",
        "# model.config"
      ],
      "execution_count": 65,
      "outputs": []
    },
    {
      "cell_type": "code",
      "metadata": {
        "id": "yx-oJlYK3nXh",
        "colab_type": "code",
        "colab": {
          "base_uri": "https://localhost:8080/",
          "height": 305
        },
        "outputId": "bedefc9e-a6c3-4c4c-87b2-c43d8dae9d80"
      },
      "source": [
        "# 简单分类算法\n",
        "model_compare = tf.keras.Sequential([\n",
        "    tf.keras.layers.Embedding(30522, hidden_size),\n",
        "    tf.keras.layers.Bidirectional(tf.keras.layers.LSTM(64)),\n",
        "    tf.keras.layers.Dense(32, activation='relu'),\n",
        "    tf.keras.layers.Dense(4)\n",
        "])\n",
        "model_compare.summary()"
      ],
      "execution_count": 66,
      "outputs": [
        {
          "output_type": "stream",
          "text": [
            "Model: \"sequential_1\"\n",
            "_________________________________________________________________\n",
            "Layer (type)                 Output Shape              Param #   \n",
            "=================================================================\n",
            "embedding_1 (Embedding)      (None, None, 128)         3906816   \n",
            "_________________________________________________________________\n",
            "bidirectional_1 (Bidirection (None, 128)               98816     \n",
            "_________________________________________________________________\n",
            "dense_2 (Dense)              (None, 32)                4128      \n",
            "_________________________________________________________________\n",
            "dense_3 (Dense)              (None, 4)                 132       \n",
            "=================================================================\n",
            "Total params: 4,009,892\n",
            "Trainable params: 4,009,892\n",
            "Non-trainable params: 0\n",
            "_________________________________________________________________\n"
          ],
          "name": "stdout"
        }
      ]
    },
    {
      "cell_type": "code",
      "metadata": {
        "id": "4F2dKeUi3nGV",
        "colab_type": "code",
        "colab": {}
      },
      "source": [
        "# 模型编译\n",
        "optimizer = tf.keras.optimizers.Adam(learning_rate=0.0001, epsilon=1e-08, clipnorm=1.0)\n",
        "loss = tf.keras.losses.SparseCategoricalCrossentropy(from_logits=True)\n",
        "metric = tf.keras.metrics.SparseCategoricalAccuracy('accuracy')\n",
        "model.compile(optimizer=optimizer, loss=loss, metrics=[metric])"
      ],
      "execution_count": 67,
      "outputs": []
    },
    {
      "cell_type": "code",
      "metadata": {
        "id": "fojA9n5LRGpJ",
        "colab_type": "code",
        "colab": {}
      },
      "source": [
        "optimizer_c = tf.keras.optimizers.Adam(learning_rate=0.0001, epsilon=1e-08, clipnorm=1.0)\n",
        "loss_c = tf.keras.losses.SparseCategoricalCrossentropy(from_logits=True)\n",
        "metric_c = tf.keras.metrics.SparseCategoricalAccuracy('accuracy')\n",
        "model_compare.compile(optimizer=optimizer_c, loss=loss_c, metrics=[metric_c])"
      ],
      "execution_count": 68,
      "outputs": []
    },
    {
      "cell_type": "code",
      "metadata": {
        "id": "CJecHZU6ap6H",
        "colab_type": "code",
        "colab": {}
      },
      "source": [
        "# history是按照一个epoch记录一次，间隔太大了，所以手动重写一个基于batch的\n",
        "class BatchCallback(tf.keras.callbacks.History):\n",
        "  def __init__(self):\n",
        "    self.batch = []\n",
        "    self.history = {'loss':[], 'accuracy':[]}\n",
        "  def on_train_batch_end(self, batch, logs=None):\n",
        "    self.batch.append(batch)\n",
        "    for k, v in logs.items():\n",
        "      self.history[k].append(v)"
      ],
      "execution_count": 69,
      "outputs": []
    },
    {
      "cell_type": "code",
      "metadata": {
        "id": "lC9Y5UGV8VT6",
        "colab_type": "code",
        "colab": {
          "base_uri": "https://localhost:8080/",
          "height": 197
        },
        "outputId": "0ece8d28-d7c3-45b3-c7ba-44c30a7b8052"
      },
      "source": [
        "# 模型训练\n",
        "history = model.fit(x=[train_ids, train_mask], \n",
        "     y=train_labels, \n",
        "     batch_size=batch_size, \n",
        "     epochs=epochs, \n",
        "     verbose=1, \n",
        "     callbacks=[BatchCallback()],\n",
        "     shuffle=True)"
      ],
      "execution_count": 70,
      "outputs": [
        {
          "output_type": "stream",
          "text": [
            "Epoch 1/5\n",
            "469/469 [==============================] - 190s 405ms/step - loss: 0.7227 - accuracy: 0.6953\n",
            "Epoch 2/5\n",
            "469/469 [==============================] - 190s 405ms/step - loss: 0.3373 - accuracy: 0.8896\n",
            "Epoch 3/5\n",
            "469/469 [==============================] - 190s 405ms/step - loss: 0.2682 - accuracy: 0.9123\n",
            "Epoch 4/5\n",
            "469/469 [==============================] - 190s 405ms/step - loss: 0.2255 - accuracy: 0.9262\n",
            "Epoch 5/5\n",
            "469/469 [==============================] - 190s 405ms/step - loss: 0.1963 - accuracy: 0.9355\n"
          ],
          "name": "stdout"
        }
      ]
    },
    {
      "cell_type": "code",
      "metadata": {
        "id": "O_FDdA4KRWO3",
        "colab_type": "code",
        "colab": {
          "base_uri": "https://localhost:8080/",
          "height": 197
        },
        "outputId": "e7f6d145-3a21-4aba-bc03-4f7aae6a96fd"
      },
      "source": [
        "history_compare = model_compare.fit(\n",
        "    x=[train_ids, train_mask],\n",
        "    y=train_labels,\n",
        "    batch_size=batch_size, \n",
        "    epochs=epochs,\n",
        "    verbose=1,\n",
        "    callbacks=[BatchCallback()],\n",
        "    shuffle=True\n",
        ")"
      ],
      "execution_count": 71,
      "outputs": [
        {
          "output_type": "stream",
          "text": [
            "Epoch 1/5\n",
            "469/469 [==============================] - 31s 65ms/step - loss: 1.0890 - accuracy: 0.5335\n",
            "Epoch 2/5\n",
            "469/469 [==============================] - 30s 65ms/step - loss: 0.5726 - accuracy: 0.8100\n",
            "Epoch 3/5\n",
            "469/469 [==============================] - 32s 69ms/step - loss: 0.3591 - accuracy: 0.8833\n",
            "Epoch 4/5\n",
            "469/469 [==============================] - 32s 69ms/step - loss: 0.2963 - accuracy: 0.9039\n",
            "Epoch 5/5\n",
            "469/469 [==============================] - 32s 69ms/step - loss: 0.2573 - accuracy: 0.9165\n"
          ],
          "name": "stdout"
        }
      ]
    },
    {
      "cell_type": "code",
      "metadata": {
        "id": "Ly4iDgmklcy5",
        "colab_type": "code",
        "colab": {
          "base_uri": "https://localhost:8080/",
          "height": 53
        },
        "outputId": "04c8c94f-4a68-4cf5-a15c-0cb68c73e297"
      },
      "source": [
        "# 模型测试\n",
        "model.evaluate(x=[test_ids, test_mask],\n",
        "        y=test_labels, \n",
        "        batch_size=batch_size, \n",
        "        verbose=1)"
      ],
      "execution_count": 72,
      "outputs": [
        {
          "output_type": "stream",
          "text": [
            "30/30 [==============================] - 4s 136ms/step - loss: 0.3603 - accuracy: 0.8887\n"
          ],
          "name": "stdout"
        },
        {
          "output_type": "execute_result",
          "data": {
            "text/plain": [
              "[0.360280305147171, 0.8886842131614685]"
            ]
          },
          "metadata": {
            "tags": []
          },
          "execution_count": 72
        }
      ]
    },
    {
      "cell_type": "code",
      "metadata": {
        "id": "F8ME3Dv0U-UL",
        "colab_type": "code",
        "colab": {
          "base_uri": "https://localhost:8080/",
          "height": 53
        },
        "outputId": "e80fc6e3-dd20-4f9d-9edc-4fbe1cbc9db7"
      },
      "source": [
        "model_compare.evaluate(x=[test_ids, test_mask],\n",
        "        y=test_labels, \n",
        "        batch_size=batch_size, \n",
        "        verbose=1)"
      ],
      "execution_count": 73,
      "outputs": [
        {
          "output_type": "stream",
          "text": [
            "30/30 [==============================] - 0s 11ms/step - loss: 0.3401 - accuracy: 0.8837\n"
          ],
          "name": "stdout"
        },
        {
          "output_type": "execute_result",
          "data": {
            "text/plain": [
              "[0.3400826156139374, 0.8836842179298401]"
            ]
          },
          "metadata": {
            "tags": []
          },
          "execution_count": 73
        }
      ]
    },
    {
      "cell_type": "code",
      "metadata": {
        "id": "hqvrDdKplstd",
        "colab_type": "code",
        "colab": {
          "base_uri": "https://localhost:8080/",
          "height": 279
        },
        "outputId": "4d2a2aab-92fc-4caf-ff0e-d3b811d4552c"
      },
      "source": [
        "# 画图\n",
        "def plot_graphs(history,history_compare, metric):\n",
        "  plt.plot(history.history[metric])\n",
        "  plt.plot(history_compare.history[metric])\n",
        "  plt.xlabel(\"Batches\")\n",
        "  plt.ylabel(metric)\n",
        "  plt.show()\n",
        "plot_graphs(history, history_compare, 'accuracy')"
      ],
      "execution_count": 74,
      "outputs": [
        {
          "output_type": "display_data",
          "data": {
            "image/png": "[encoded data removed]",
            "text/plain": [
              "<Figure size 432x288 with 1 Axes>"
            ]
          },
          "metadata": {
            "tags": [],
            "needs_background": "light"
          }
        }
      ]
    },
    {
      "cell_type": "code",
      "metadata": {
        "id": "Wi8sc_xmsqs7",
        "colab_type": "code",
        "colab": {
          "base_uri": "https://localhost:8080/",
          "height": 89
        },
        "outputId": "a8a51e5d-76b4-4449-f727-9b351d80b1e2"
      },
      "source": [
        "index = None\n",
        "for idx, layer in enumerate(model_compare.layers):\n",
        "  print(idx, layer.name)"
      ],
      "execution_count": 75,
      "outputs": [
        {
          "output_type": "stream",
          "text": [
            "0 embedding_1\n",
            "1 bidirectional_1\n",
            "2 dense_2\n",
            "3 dense_3\n"
          ],
          "name": "stdout"
        }
      ]
    },
    {
      "cell_type": "code",
      "metadata": {
        "id": "B5bV2M4U5Ati",
        "colab_type": "code",
        "colab": {}
      },
      "source": [
        "# 得到RNN模型embedding的方法，get embedding层后，输入词的id，得到embeding\n",
        "# 用index更好\n",
        "embedding_compare = model_compare.get_layer(index=0)"
      ],
      "execution_count": 76,
      "outputs": []
    },
    {
      "cell_type": "code",
      "metadata": {
        "id": "calkKhCKo7f7",
        "colab_type": "code",
        "colab": {
          "base_uri": "https://localhost:8080/",
          "height": 1000
        },
        "outputId": "1fe5ddba-77ad-405f-8772-73fb29bf2f82"
      },
      "source": [
        "# 得到每个类的embedding\n",
        "avg_pool1 = tf.keras.layers.AveragePooling2D(pool_size=(max_length, 1))\n",
        "N = tf.shape(train_ids)[0] // 1000\n",
        "embs_list = []\n",
        "for i in range(N):\n",
        "  embs = embedding_compare(train_ids[i*1000:(i+1)*1000])\n",
        "  embs = tf.reshape(avg_pool1(tf.reshape(embs,[-1,max_length,hidden_size,1])), [-1,hidden_size])\n",
        "  embs_list.append(embs)\n",
        "embs = embedding_compare(train_ids[N*1000:])\n",
        "embs = tf.reshape(avg_pool1(tf.reshape(embs,[-1,max_length,hidden_size,1])), [-1,hidden_size])\n",
        "embs_list.append(embs)\n",
        "seq_embs_compare = tf.concat(embs_list, 0).numpy()\n",
        "class_embedding_compare = np.zeros([4,hidden_size])\n",
        "for i in range(4):\n",
        "  index = train_labels == i\n",
        "  class_embs = seq_embs_compare[index]\n",
        "  avg_pool2 = tf.keras.layers.AveragePooling2D(pool_size=(tf.shape(class_embs)[0], 1))\n",
        "  class_embs = tf.reshape(class_embs,[1,-1,hidden_size,1])\n",
        "  class_embs = avg_pool2(class_embs)\n",
        "  class_embedding_compare[i] = tf.reshape(class_embs, [hidden_size]).numpy()\n",
        "print(class_embedding_compare)"
      ],
      "execution_count": 77,
      "outputs": [
        {
          "output_type": "stream",
          "text": [
            "[[-2.23944802e-02  1.55875282e-02  1.21596660e-02 -3.15808281e-02\n",
            "  -3.28427143e-02  2.61176620e-02 -3.89238559e-02 -7.11645558e-03\n",
            "  -2.34802067e-02  9.53746773e-03  5.18480921e-03 -1.47409579e-02\n",
            "  -2.55397167e-02  8.03089514e-03  2.57486571e-02 -2.73762569e-02\n",
            "  -9.28882335e-04 -8.99373740e-03 -6.15997519e-03  6.56104600e-03\n",
            "   2.43420955e-02 -3.24684270e-02 -1.28460294e-02 -1.97299663e-02\n",
            "  -1.08695235e-02 -4.21938300e-02  1.10258488e-02 -9.76384245e-03\n",
            "  -8.45185947e-03  1.70575753e-02 -3.85858715e-02  3.33712175e-02\n",
            "  -1.96247231e-02 -1.23317372e-02  4.87266015e-03 -4.06951867e-02\n",
            "   9.05792415e-03  3.04197501e-02 -3.82473432e-02  1.82001870e-02\n",
            "  -3.90603929e-03 -8.31801258e-03 -2.91324337e-03 -3.09233703e-02\n",
            "  -3.21142934e-02 -1.83480512e-02 -4.99545968e-05 -3.43439616e-02\n",
            "  -1.87686421e-02  2.88517270e-02  3.40804495e-02  1.19396485e-02\n",
            "  -6.70464709e-03 -1.91056635e-02  4.67775622e-03 -2.65950169e-02\n",
            "   5.25851781e-03  3.03695612e-02  1.35902371e-02 -2.82795187e-02\n",
            "  -3.33557464e-02  7.80644920e-03  4.03817631e-02  1.79715380e-02\n",
            "   3.87926288e-02  6.15236722e-03  2.16310397e-02 -1.38449809e-03\n",
            "   3.05727310e-02  1.52183818e-02 -2.04837564e-02 -1.84704643e-02\n",
            "   2.13990696e-02 -6.54560560e-03  2.29455121e-02 -1.73415598e-02\n",
            "   2.82046013e-02 -3.00664008e-02  2.74402667e-02 -1.87164899e-02\n",
            "   2.71931514e-02  1.66739374e-02  3.19851525e-02 -3.59546654e-02\n",
            "  -1.68247651e-02  2.03802646e-03 -8.52092728e-03  3.51069402e-03\n",
            "  -6.92599500e-03  1.39982887e-02  1.53914187e-02 -3.41488719e-02\n",
            "   3.63234691e-02 -6.66398788e-03  3.57294828e-02  3.37118208e-02\n",
            "   1.02946267e-03  1.49657950e-02 -1.81573268e-03 -9.17911937e-04\n",
            "  -5.61513845e-03  9.14228242e-03 -2.28844006e-02 -1.94274094e-02\n",
            "   2.50781979e-02  1.83893126e-02 -5.37008094e-03 -3.34641635e-02\n",
            "   5.16490778e-03  5.86113380e-03  3.57050262e-02 -8.41561891e-03\n",
            "  -2.93342415e-02  1.67961810e-02  1.35237630e-03  2.46419013e-02\n",
            "   2.37209592e-02 -2.92056706e-02 -3.10069565e-02 -1.17472876e-02\n",
            "  -1.84401628e-02  3.77131924e-02 -3.04164272e-02  3.60893831e-02\n",
            "  -1.66607015e-02  3.53164487e-02  6.25907490e-03 -2.86050998e-02]\n",
            " [-2.12601479e-02  1.73328966e-02  1.31079927e-02 -3.01195253e-02\n",
            "  -3.00128777e-02  2.47947071e-02 -3.76858898e-02 -5.97319053e-03\n",
            "  -2.47850176e-02  1.12746330e-02  3.68537894e-03 -1.24998465e-02\n",
            "  -2.37840153e-02  6.43910654e-03  2.38619875e-02 -2.75850203e-02\n",
            "  -2.47168937e-03 -6.86362898e-03 -7.45164976e-03  8.07445310e-03\n",
            "   2.17476841e-02 -3.05202734e-02 -1.19095165e-02 -1.78712886e-02\n",
            "  -1.25065623e-02 -4.04762812e-02  1.25016291e-02 -8.10850970e-03\n",
            "  -7.86013063e-03  1.85268335e-02 -3.61120515e-02  3.09805777e-02\n",
            "  -1.85733382e-02 -1.07694576e-02  2.74330028e-03 -3.85335721e-02\n",
            "   6.62711728e-03  3.15183699e-02 -3.71001214e-02  1.86850484e-02\n",
            "  -1.67688925e-03 -8.96839704e-03 -9.88200773e-04 -3.09085231e-02\n",
            "  -3.27217728e-02 -1.74834318e-02 -3.44432448e-03 -3.11517529e-02\n",
            "  -1.78037081e-02  2.44057048e-02  3.50975208e-02  1.03263427e-02\n",
            "  -8.28786287e-03 -1.94730964e-02  2.53099739e-03 -2.43299697e-02\n",
            "   4.26557707e-03  2.86100134e-02  1.49821369e-02 -3.00636292e-02\n",
            "  -3.26906145e-02  8.29076394e-03  3.82649228e-02  1.69023648e-02\n",
            "   3.93649414e-02  5.19304676e-03  2.07565743e-02 -2.49160011e-03\n",
            "   3.32675055e-02  1.68196261e-02 -2.14793086e-02 -1.63776781e-02\n",
            "   1.81385279e-02 -4.12985915e-03  2.18026191e-02 -1.86416153e-02\n",
            "   2.68048067e-02 -3.12193055e-02  2.89981123e-02 -1.89727210e-02\n",
            "   2.88942531e-02  1.85372028e-02  3.34407501e-02 -3.30794454e-02\n",
            "  -1.56894848e-02 -1.55556590e-05 -6.61962619e-03  4.28178348e-03\n",
            "  -8.29487015e-03  1.46928448e-02  1.43229123e-02 -3.13184820e-02\n",
            "   3.72740924e-02 -8.52555875e-03  3.80410030e-02  3.02838497e-02\n",
            "   9.87419393e-04  1.24648213e-02 -1.27462251e-03 -1.94058567e-03\n",
            "  -3.02345469e-03  1.11775240e-02 -2.12588087e-02 -1.86498612e-02\n",
            "   2.49372944e-02  1.94231682e-02 -7.07400218e-03 -3.18246149e-02\n",
            "   2.89899856e-03  3.41255288e-03  3.66860889e-02 -1.04680285e-02\n",
            "  -3.03471368e-02  1.82941668e-02 -2.91127915e-04  2.62825023e-02\n",
            "   2.63147596e-02 -2.96345931e-02 -3.03630140e-02 -1.37293683e-02\n",
            "  -1.95142552e-02  3.68469656e-02 -2.87665315e-02  3.15367505e-02\n",
            "  -1.56750642e-02  3.46866250e-02  9.47910361e-03 -2.98750997e-02]\n",
            " [-2.30502356e-02  1.73716340e-02  1.41784698e-02 -3.13380472e-02\n",
            "  -2.74335872e-02  2.78388727e-02 -4.05050851e-02 -7.93055911e-03\n",
            "  -2.35558525e-02  9.94351134e-03  4.60832752e-03 -1.34729799e-02\n",
            "  -2.38819420e-02  7.34117022e-03  2.27983259e-02 -2.56082695e-02\n",
            "  -1.60575227e-03 -6.80267578e-03 -4.54682205e-03  8.07203539e-03\n",
            "   2.50921343e-02 -3.15337628e-02 -1.41927637e-02 -1.56610403e-02\n",
            "  -1.11496923e-02 -4.10110280e-02  5.79847163e-03 -7.10866833e-03\n",
            "  -8.21742974e-03  1.75555721e-02 -3.78197990e-02  3.16581540e-02\n",
            "  -2.19622236e-02 -1.22598633e-02  5.40079968e-03 -3.82379703e-02\n",
            "   6.62333658e-03  3.05858199e-02 -3.50315161e-02  1.97875649e-02\n",
            "  -2.46947375e-03 -7.97219016e-03 -1.52487820e-03 -2.95059141e-02\n",
            "  -3.29638124e-02 -1.93868596e-02 -1.44177803e-03 -3.00635286e-02\n",
            "  -1.83567964e-02  2.63797604e-02  3.13896574e-02  1.35790985e-02\n",
            "  -7.20168184e-03 -1.90773625e-02  2.82150810e-03 -2.48004012e-02\n",
            "   4.65678005e-03  3.17363180e-02  1.41790863e-02 -2.94546299e-02\n",
            "  -3.28313485e-02  8.11006688e-03  3.89905758e-02  1.91961061e-02\n",
            "   3.45132798e-02  6.05070824e-03  2.23374926e-02 -1.40248856e-03\n",
            "   3.25087644e-02  1.44534623e-02 -1.83447991e-02 -1.57110095e-02\n",
            "   1.82975437e-02 -5.43229235e-03  2.34039165e-02 -1.59100387e-02\n",
            "   2.52137017e-02 -2.92142872e-02  2.68467553e-02 -1.82103924e-02\n",
            "   2.67028343e-02  1.64052658e-02  3.15198265e-02 -3.38942818e-02\n",
            "  -1.11414436e-02  8.18927714e-04 -7.76556693e-03  6.59137871e-03\n",
            "  -8.31463374e-03  1.64334066e-02  1.38187865e-02 -3.35859694e-02\n",
            "   3.67566422e-02 -6.58035651e-03  3.49884853e-02  3.16330567e-02\n",
            "   6.39102561e-03  1.42661296e-02 -2.20816862e-03 -1.81903888e-03\n",
            "  -4.51056706e-03  8.87869764e-03 -2.27815714e-02 -1.75635330e-02\n",
            "   2.34527830e-02  1.82651468e-02 -5.92649030e-03 -3.28054763e-02\n",
            "   5.42624528e-03  6.95015164e-03  3.55013944e-02 -8.28904379e-03\n",
            "  -2.86077242e-02  1.76616088e-02  4.97742963e-04  2.68693473e-02\n",
            "   2.36508157e-02 -3.16474438e-02 -2.98284404e-02 -1.21407779e-02\n",
            "  -1.53845921e-02  3.68560888e-02 -3.03515848e-02  3.39372642e-02\n",
            "  -1.80289876e-02  3.40142772e-02  5.78186288e-03 -2.77746376e-02]\n",
            " [-2.37756167e-02  1.69709884e-02  1.28007745e-02 -3.28307375e-02\n",
            "  -2.85581686e-02  2.78774146e-02 -4.08203304e-02 -8.64896923e-03\n",
            "  -2.31816154e-02  9.49109066e-03  5.78343356e-03 -1.47989355e-02\n",
            "  -2.55797002e-02  8.55714548e-03  2.48458609e-02 -2.51284316e-02\n",
            "  -5.00601018e-04 -8.18455406e-03 -4.81240917e-03  9.63730831e-03\n",
            "   2.46268697e-02 -3.29596289e-02 -1.43334670e-02 -1.54301831e-02\n",
            "  -1.05729699e-02 -4.28009368e-02  9.62256454e-03 -7.95755349e-03\n",
            "  -9.66676977e-03  1.67738777e-02 -3.88624445e-02  3.28974202e-02\n",
            "  -2.15231124e-02 -1.31090237e-02  5.02806902e-03 -4.04195674e-02\n",
            "   7.58700911e-03  3.01032048e-02 -3.73687781e-02  2.10073851e-02\n",
            "  -3.56004178e-03 -6.97409501e-03 -2.46531935e-03 -2.90029738e-02\n",
            "  -3.48690487e-02 -2.02160068e-02 -3.92395211e-03 -3.04742791e-02\n",
            "  -1.98551863e-02  2.47236136e-02  3.30342017e-02  1.30427470e-02\n",
            "  -6.46429881e-03 -1.82387680e-02  4.08063270e-03 -2.61295009e-02\n",
            "   6.02124399e-03  3.19351144e-02  1.33027220e-02 -2.96409708e-02\n",
            "  -3.45795155e-02  6.72293361e-03  4.05443273e-02  1.96123216e-02\n",
            "   3.76282334e-02  7.02293636e-03  2.36529540e-02 -4.89564613e-04\n",
            "   3.44906785e-02  1.48367090e-02 -1.92400571e-02 -1.71789173e-02\n",
            "   1.87029336e-02 -6.04446186e-03  2.46480349e-02 -1.60925779e-02\n",
            "   2.71850806e-02 -2.92900093e-02  2.74512302e-02 -1.76600572e-02\n",
            "   2.71622725e-02  1.70712154e-02  3.22182514e-02 -3.49758826e-02\n",
            "  -1.26365423e-02  1.54124002e-03 -8.54516402e-03  4.97881789e-03\n",
            "  -7.16136117e-03  1.54566234e-02  1.52368974e-02 -3.16014849e-02\n",
            "   3.77551317e-02 -6.33981777e-03  3.75660248e-02  3.22406888e-02\n",
            "   5.05330041e-03  1.45165687e-02 -3.44868796e-03 -6.11650001e-04\n",
            "  -4.94050886e-03  8.60670023e-03 -2.36785598e-02 -1.65636223e-02\n",
            "   2.27653850e-02  2.05915775e-02 -5.18350070e-03 -3.41381133e-02\n",
            "   5.12740575e-03  5.98998880e-03  3.50838974e-02 -8.12730659e-03\n",
            "  -2.84676906e-02  1.70228593e-02  1.32621126e-03  2.62077618e-02\n",
            "   2.52827108e-02 -3.13006341e-02 -2.88588479e-02 -1.19260857e-02\n",
            "  -1.72892753e-02  3.89497243e-02 -2.85879504e-02  3.26886624e-02\n",
            "  -1.85524952e-02  3.30245607e-02  8.14727880e-03 -2.78320350e-02]]\n"
          ],
          "name": "stdout"
        }
      ]
    },
    {
      "cell_type": "code",
      "metadata": {
        "id": "xsjVqfIDuRFI",
        "colab_type": "code",
        "colab": {}
      },
      "source": [
        "# 获得bert Embedding的方式，这里得到是整个embedding张量\n",
        "embeddings = model.get_layer('bert').embeddings.word_embeddings\n",
        "\n",
        "# 定义函数：通过词id 得到embedding\n",
        "def get_embedding(input_ids, embeddings=embeddings):\n",
        "  embeds = tf.gather(embeddings, input_ids)\n",
        "  return embeds"
      ],
      "execution_count": 78,
      "outputs": []
    },
    {
      "cell_type": "code",
      "metadata": {
        "id": "1umx71X3KLoF",
        "colab_type": "code",
        "colab": {
          "base_uri": "https://localhost:8080/",
          "height": 1000
        },
        "outputId": "acd688cf-2778-4379-8760-6ed4748ce3a1"
      },
      "source": [
        "# 得到每个类的embedding\n",
        "N = tf.shape(train_ids)[0] // 1000\n",
        "embs_list = []\n",
        "for i in range(N):\n",
        "  embs = get_embedding(train_ids[i*1000:(i+1)*1000])\n",
        "  embs = tf.reshape(avg_pool1(tf.reshape(embs,[-1,max_length,hidden_size,1])), [-1,hidden_size])\n",
        "  embs_list.append(embs)\n",
        "embs = get_embedding(train_ids[N*1000:])\n",
        "embs = tf.reshape(avg_pool1(tf.reshape(embs,[-1,max_length,hidden_size,1])), [-1,hidden_size])\n",
        "embs_list.append(embs)\n",
        "seq_embs = tf.concat(embs_list, 0).numpy()\n",
        "print(seq_embs)\n",
        "class_embedding = np.zeros([4,hidden_size])\n",
        "for i in range(4):\n",
        "  index = train_labels == i\n",
        "  class_embs = seq_embs[index]\n",
        "  avg_pool2 = tf.keras.layers.AveragePooling2D(pool_size=(tf.shape(class_embs)[0], 1))\n",
        "  class_embs = tf.reshape(class_embs,[1,-1,hidden_size,1])\n",
        "  class_embs = avg_pool2(class_embs)\n",
        "  class_embedding[i] = tf.reshape(class_embs, [hidden_size]).numpy()\n",
        "print(class_embedding)"
      ],
      "execution_count": 79,
      "outputs": [
        {
          "output_type": "stream",
          "text": [
            "[[ 0.02465195  0.0001303  -0.01144493 ...  0.01478226  0.00657127\n",
            "  -0.01122703]\n",
            " [ 0.02552237  0.00114205 -0.01447273 ...  0.01532164  0.00749414\n",
            "  -0.01210248]\n",
            " [ 0.02554015  0.00171474 -0.01356095 ...  0.01733969  0.00670731\n",
            "  -0.01252225]\n",
            " ...\n",
            " [ 0.02528451 -0.00108633 -0.01476502 ...  0.01496193  0.00748859\n",
            "  -0.01393971]\n",
            " [ 0.01910484 -0.00278094 -0.00929833 ...  0.01124276  0.0077898\n",
            "  -0.0096012 ]\n",
            " [ 0.02277888 -0.00093959 -0.01555616 ...  0.01374221  0.00647115\n",
            "  -0.01314489]]\n",
            "[[ 2.56577507e-02 -5.68271535e-05 -1.35721657e-02 -4.41314565e-04\n",
            "  -2.24081753e-03 -4.52984031e-03 -4.41692490e-03 -2.22518612e-02\n",
            "   1.10319294e-02 -9.54724569e-03  1.71730015e-03  1.38823222e-03\n",
            "  -3.15365791e-02  8.26407969e-03  1.30967246e-02  1.73370503e-02\n",
            "   1.20112468e-02  4.52315900e-03 -2.37359684e-02 -1.54401106e-03\n",
            "  -8.85453046e-05  2.39457060e-02  1.47786792e-02  1.13398768e-03\n",
            "  -5.88004943e-04  5.22184186e-04  5.37903095e-03  6.12324104e-03\n",
            "   6.21248968e-03 -5.52571658e-03  1.11662773e-02 -2.21175444e-03\n",
            "  -3.98346270e-03 -2.35332660e-02 -2.49555632e-02  2.04390101e-02\n",
            "  -1.91121327e-03  2.57158559e-03  4.82544769e-03 -8.90044589e-03\n",
            "   1.21162897e-02  1.34576969e-02 -3.01996972e-02  2.49375077e-03\n",
            "  -1.58713311e-02 -2.03090645e-02 -1.05584459e-02  1.63711570e-02\n",
            "  -7.31959194e-03 -1.07997404e-02 -1.57652027e-03 -2.15379056e-02\n",
            "   1.39380405e-02  3.97246331e-03  6.35780813e-03  1.61553044e-02\n",
            "  -2.44071800e-02 -1.98324956e-02  6.62113866e-03  1.47469649e-02\n",
            "   6.74691331e-03  3.03932559e-02  2.20493861e-02 -1.19475583e-02\n",
            "  -6.15225360e-03  1.09204054e-02 -2.31607747e-03 -2.02484354e-02\n",
            "   1.42143769e-02 -2.22558063e-02 -8.35380144e-03  1.30187266e-03\n",
            "  -4.51998645e-03 -6.04602043e-04  2.31254827e-02  1.47951311e-02\n",
            "  -1.22162951e-02  1.87548157e-02  1.43299140e-02  1.30367058e-03\n",
            "  -1.33643001e-02 -1.51475566e-03  2.02597380e-02  3.10343481e-03\n",
            "   1.80841181e-02 -2.67154374e-03  7.52199348e-03  2.68734004e-02\n",
            "   1.03238802e-02  4.83393436e-03 -2.36582328e-02  1.79562382e-02\n",
            "   3.02219279e-02  5.48697717e-04  2.20958982e-03  4.71650949e-03\n",
            "   5.82045177e-03 -1.39254937e-02  2.85038957e-03 -9.77112539e-03\n",
            "  -1.21505708e-02 -9.13391635e-03  9.33972746e-03 -2.83490606e-02\n",
            "   1.37536637e-02  7.87395798e-03 -1.14653483e-02  8.47637095e-03\n",
            "  -2.05323901e-02 -6.48938911e-03  7.68504571e-03 -1.57124344e-02\n",
            "   1.10807316e-02 -2.66407728e-02  2.26079077e-02 -9.76010505e-03\n",
            "   1.28367841e-02  1.25757009e-02 -4.06086538e-03  3.76810553e-03\n",
            "   2.40182783e-02 -3.00360471e-03 -2.32576560e-02  1.09906448e-03\n",
            "  -2.51786760e-03  1.50523344e-02  6.73197117e-03 -1.31696835e-02]\n",
            " [ 2.41245441e-02 -8.14534491e-04 -1.39190601e-02  3.57101089e-04\n",
            "  -2.68868380e-03 -4.67423955e-03 -4.05086717e-03 -2.10725572e-02\n",
            "   1.12091415e-02 -8.98998138e-03  2.30659056e-03  1.89022557e-03\n",
            "  -3.21810842e-02  7.90072232e-03  1.24951536e-02  1.65672246e-02\n",
            "   1.18738441e-02  4.03717253e-03 -2.29938459e-02 -6.90224406e-04\n",
            "  -7.38172152e-04  2.37304103e-02  1.53111070e-02  1.46763353e-03\n",
            "  -1.03818672e-03  1.13308581e-03  5.13785612e-03  6.13741856e-03\n",
            "   5.40661160e-03 -6.01131143e-03  9.80551261e-03 -2.63336999e-03\n",
            "  -3.05376248e-03 -2.36942098e-02 -2.45799553e-02  1.95329897e-02\n",
            "  -1.48400920e-03  2.12497404e-03  4.19314252e-03 -9.61685274e-03\n",
            "   1.19925169e-02  1.39408652e-02 -2.94015389e-02  2.53278832e-03\n",
            "  -1.57002993e-02 -1.99604388e-02 -1.15754362e-02  1.63680892e-02\n",
            "  -7.16288388e-03 -9.73716006e-03 -1.14466832e-03 -2.17998028e-02\n",
            "   1.40942810e-02  4.67108889e-03  6.21167850e-03  1.61273684e-02\n",
            "  -2.44913474e-02 -1.90753751e-02  6.80462457e-03  1.33839287e-02\n",
            "   7.84533750e-03  3.01751979e-02  2.06781700e-02 -1.16701005e-02\n",
            "  -5.20618632e-03  1.14195719e-02 -2.33290344e-03 -1.92860235e-02\n",
            "   1.38648702e-02 -2.17908714e-02 -8.22918769e-03  1.27186929e-03\n",
            "  -3.63752455e-03 -9.63898608e-04  2.23376025e-02  1.57910027e-02\n",
            "  -1.30750025e-02  1.81569438e-02  1.26282442e-02  1.63672189e-03\n",
            "  -1.22857336e-02 -1.93362171e-03  1.95108037e-02  3.89667228e-03\n",
            "   1.74470991e-02 -2.82887602e-03  8.09059106e-03  2.57429034e-02\n",
            "   1.05676791e-02  5.23681799e-03 -2.36545000e-02  1.75168402e-02\n",
            "   3.04995384e-02  1.38062489e-04  2.15247483e-03  4.95944871e-03\n",
            "   6.38712943e-03 -1.32434424e-02  2.92485347e-03 -9.26850922e-03\n",
            "  -1.26802158e-02 -8.87139328e-03  1.02461716e-02 -2.73489300e-02\n",
            "   1.24338036e-02  7.32812798e-03 -1.12016555e-02  9.36623476e-03\n",
            "  -1.99405327e-02 -6.63466984e-03  8.35630205e-03 -1.50561091e-02\n",
            "   1.21440161e-02 -2.51160171e-02  2.21438110e-02 -9.35954414e-03\n",
            "   1.16911437e-02  1.12793194e-02 -3.76496790e-03  2.93319393e-03\n",
            "   2.40920708e-02 -4.06580791e-03 -2.27257572e-02 -8.25172829e-05\n",
            "  -2.60488805e-03  1.41918026e-02  7.23517407e-03 -1.29996305e-02]\n",
            " [ 2.40880232e-02  4.98520792e-04 -1.24654565e-02 -5.19207562e-04\n",
            "  -1.52731256e-03 -5.15434565e-03 -4.67205513e-03 -2.25464720e-02\n",
            "   1.09944092e-02 -1.01779997e-02  9.15020879e-04  2.23332993e-03\n",
            "  -3.15180235e-02  7.00833648e-03  1.37042003e-02  1.60345081e-02\n",
            "   1.07155992e-02  5.39532257e-03 -2.30072774e-02 -1.90445047e-03\n",
            "   7.71167455e-04  2.23561302e-02  1.49990739e-02  8.93534801e-04\n",
            "  -1.50415013e-04  1.11596833e-03  6.00470370e-03  6.69068983e-03\n",
            "   5.59571618e-03 -5.42146899e-03  9.88263730e-03 -3.01808096e-03\n",
            "  -4.17239033e-03 -2.26435065e-02 -2.36464478e-02  2.04441119e-02\n",
            "  -2.19854107e-03  1.28963822e-03  4.27447120e-03 -8.30248557e-03\n",
            "   1.21182837e-02  1.42571302e-02 -3.02337240e-02  3.44749424e-03\n",
            "  -1.57807674e-02 -1.91347841e-02 -1.02052270e-02  1.49648329e-02\n",
            "  -6.52961014e-03 -1.06327226e-02 -6.47473789e-04 -2.07527969e-02\n",
            "   1.30662397e-02  4.70998138e-03  6.78570615e-03  1.60390586e-02\n",
            "  -2.43322253e-02 -2.02698968e-02  5.69013134e-03  1.49237681e-02\n",
            "   6.53079990e-03  2.87979972e-02  2.13338211e-02 -1.08564915e-02\n",
            "  -5.63407736e-03  1.12295421e-02 -2.90861214e-03 -2.06694454e-02\n",
            "   1.48279108e-02 -2.09054798e-02 -7.08683161e-03  2.52366037e-04\n",
            "  -5.05582336e-03  5.00767928e-05  2.35060900e-02  1.42397368e-02\n",
            "  -1.22754751e-02  1.74799450e-02  1.39255933e-02  2.26113480e-03\n",
            "  -1.28789758e-02 -1.01410283e-03  2.09087785e-02  2.63362774e-03\n",
            "   1.77935641e-02 -1.47818297e-03  6.93360297e-03  2.55205370e-02\n",
            "   1.01859244e-02  4.14578151e-03 -2.38398481e-02  1.66485123e-02\n",
            "   3.06244809e-02  1.53069699e-03  1.15431822e-03  3.48138646e-03\n",
            "   5.61075145e-03 -1.45878997e-02  3.72416433e-03 -8.84343870e-03\n",
            "  -1.25981113e-02 -8.22366495e-03  9.57063399e-03 -2.81372163e-02\n",
            "   1.32003315e-02  8.50453880e-03 -1.11919399e-02  8.16014316e-03\n",
            "  -1.89404003e-02 -5.43762883e-03  8.51085130e-03 -1.59378722e-02\n",
            "   1.09244194e-02 -2.63989400e-02  2.11658739e-02 -1.06501607e-02\n",
            "   1.24581698e-02  1.24759376e-02 -4.56673233e-03  2.82987393e-03\n",
            "   2.26916652e-02 -2.66898121e-03 -2.37613469e-02  3.24222987e-04\n",
            "  -3.39073176e-03  1.52952485e-02  6.04943698e-03 -1.24943778e-02]\n",
            " [ 2.44229417e-02  7.82549905e-05 -1.32269794e-02 -8.69906333e-04\n",
            "  -2.03892705e-03 -5.21325739e-03 -4.88654897e-03 -2.17816364e-02\n",
            "   1.17718941e-02 -9.50662047e-03  2.05798959e-03  2.44247052e-03\n",
            "  -3.21975015e-02  7.61953555e-03  1.37234051e-02  1.63464975e-02\n",
            "   1.11859338e-02  4.85595036e-03 -2.27322448e-02 -1.51936559e-03\n",
            "   6.73192844e-04  2.33072545e-02  1.58685893e-02  2.13017804e-03\n",
            "  -2.92667624e-04  1.31407683e-03  6.34475611e-03  7.04413094e-03\n",
            "   5.25186164e-03 -5.03829028e-03  1.02379387e-02 -3.15920496e-03\n",
            "  -3.83288017e-03 -2.38055792e-02 -2.39945818e-02  2.09924392e-02\n",
            "  -2.49523832e-03  1.74853567e-03  3.89864529e-03 -9.43518430e-03\n",
            "   1.19468002e-02  1.45666702e-02 -2.97891106e-02  3.47827352e-03\n",
            "  -1.60494875e-02 -1.92112345e-02 -1.01897009e-02  1.59011297e-02\n",
            "  -6.67036371e-03 -1.00642098e-02 -4.45970276e-04 -2.15250961e-02\n",
            "   1.36489971e-02  4.51569026e-03  7.25532230e-03  1.69593319e-02\n",
            "  -2.54147984e-02 -1.99685283e-02  6.69873646e-03  1.46467499e-02\n",
            "   7.03192083e-03  2.93902922e-02  2.07549091e-02 -1.16415378e-02\n",
            "  -5.47272293e-03  1.15781585e-02 -3.36831342e-03 -2.06050538e-02\n",
            "   1.46025978e-02 -2.11146865e-02 -7.78327044e-03  8.10060592e-04\n",
            "  -4.77848714e-03 -4.43679251e-04  2.34882627e-02  1.49976462e-02\n",
            "  -1.33137004e-02  1.82359815e-02  1.41510200e-02  1.68237346e-03\n",
            "  -1.27276182e-02 -2.14978191e-03  2.04848927e-02  2.67383177e-03\n",
            "   1.86528638e-02 -2.31993059e-03  7.26065505e-03  2.56407950e-02\n",
            "   1.06852157e-02  4.42563230e-03 -2.46130750e-02  1.67686325e-02\n",
            "   3.08673456e-02  6.88897911e-04  1.62404985e-03  4.32823086e-03\n",
            "   5.48169669e-03 -1.41880261e-02  3.72265629e-03 -8.84766225e-03\n",
            "  -1.25690950e-02 -8.21050350e-03  9.98228136e-03 -2.87306700e-02\n",
            "   1.25921182e-02  8.59719887e-03 -1.22740231e-02  8.99516605e-03\n",
            "  -1.99098010e-02 -5.73175726e-03  7.92124774e-03 -1.62032992e-02\n",
            "   1.11178774e-02 -2.60430630e-02  2.17457842e-02 -9.90599953e-03\n",
            "   1.15684662e-02  1.15037048e-02 -4.70138341e-03  2.97946320e-03\n",
            "   2.33722217e-02 -2.95868004e-03 -2.40386594e-02 -1.21218764e-04\n",
            "  -3.48529709e-03  1.53730884e-02  6.92407647e-03 -1.21171353e-02]]\n"
          ],
          "name": "stdout"
        }
      ]
    },
    {
      "cell_type": "code",
      "metadata": {
        "id": "cNMDV_VX7Sso",
        "colab_type": "code",
        "colab": {
          "base_uri": "https://localhost:8080/",
          "height": 269
        },
        "outputId": "719aa85c-1c1d-4ad5-a9d1-94332065c12e"
      },
      "source": [
        "# 类表征的余弦相似性\n",
        "res = sklearn.metrics.pairwise.cosine_similarity(class_embedding, class_embedding_compare)\n",
        "plt.imshow(res)\n",
        "plt.show()"
      ],
      "execution_count": 86,
      "outputs": [
        {
          "output_type": "display_data",
          "data": {
            "image/png": "[encoded data removed]",
            "text/plain": [
              "<Figure size 432x288 with 1 Axes>"
            ]
          },
          "metadata": {
            "tags": [],
            "needs_background": "light"
          }
        }
      ]
    },
    {
      "cell_type": "code",
      "metadata": {
        "id": "sisEMB1W_Ulp",
        "colab_type": "code",
        "colab": {}
      },
      "source": [
        "# t-SNE分析,画图\n",
        "def plot_scatter(emb, c_emb, y_label, flag):\n",
        "  t_sne_temp = TSNE(n_components=2).fit_transform(np.concatenate((c_emb, emb)))\n",
        "  t_sne_c = t_sne_temp[0:4,:]\n",
        "  t_sne_temp = t_sne_temp[4:,:]\n",
        "  y_label = [x + 10 * flag for x in y_label]\n",
        "  plt.scatter(t_sne_temp[:,0], t_sne_temp[:,1], c=y_label, marker='o')\n",
        "  plt.scatter(t_sne_c[:,0], t_sne_c[:,1], c='red', marker='D')"
      ],
      "execution_count": 87,
      "outputs": []
    },
    {
      "cell_type": "code",
      "metadata": {
        "id": "JSLCOFkgMOrU",
        "colab_type": "code",
        "colab": {
          "base_uri": "https://localhost:8080/",
          "height": 265
        },
        "outputId": "64c88440-6b0c-4b7d-ca22-c57f8fa72131"
      },
      "source": [
        "y_label = train_labels[10000:11000].numpy().tolist()\n",
        "plot_scatter(seq_embs[10000:11000], class_embedding, y_label, 0)\n",
        "plt.show()"
      ],
      "execution_count": 88,
      "outputs": [
        {
          "output_type": "display_data",
          "data": {
            "image/png": "[encoded data removed]",
            "text/plain": [
              "<Figure size 432x288 with 1 Axes>"
            ]
          },
          "metadata": {
            "tags": [],
            "needs_background": "light"
          }
        }
      ]
    },
    {
      "cell_type": "code",
      "metadata": {
        "id": "shQT7f5rMRHK",
        "colab_type": "code",
        "colab": {
          "base_uri": "https://localhost:8080/",
          "height": 265
        },
        "outputId": "34b63cee-1efc-4323-9bbe-eb685c199e17"
      },
      "source": [
        "plot_scatter(seq_embs_compare[10000:11000], class_embedding_compare, y_label, 1)\n",
        "plt.show()"
      ],
      "execution_count": 89,
      "outputs": [
        {
          "output_type": "display_data",
          "data": {
            "image/png": "[encoded data removed]",
            "text/plain": [
              "<Figure size 432x288 with 1 Axes>"
            ]
          },
          "metadata": {
            "tags": [],
            "needs_background": "light"
          }
        }
      ]
    },
    {
      "cell_type": "code",
      "metadata": {
        "id": "TGGMQiMSkDEH",
        "colab_type": "code",
        "colab": {}
      },
      "source": [
        "def plot_graphs(history1, history2, history3, metric, labels):\n",
        "  plt.plot(history1.history[metric], label=labels[0])\n",
        "  plt.plot(history2.history[metric], label=labels[1])\n",
        "  plt.plot(history3.history[metric], label=labels[2])\n",
        "  plt.xlabel(\"Batches\")\n",
        "  plt.ylabel(metric)\n",
        "  plt.legend()\n",
        "  plt.show()"
      ],
      "execution_count": 90,
      "outputs": []
    },
    {
      "cell_type": "code",
      "metadata": {
        "id": "-VQIqyIVllcg",
        "colab_type": "code",
        "colab": {
          "base_uri": "https://localhost:8080/",
          "height": 641
        },
        "outputId": "88704621-299d-46e6-8515-6e4be51509c2"
      },
      "source": [
        "cnfg = BertConfig(hidden_size=hidden_size, num_labels=4, num_hidden_layers=6, num_attention_heads=4, intermediate_size=1024)\n",
        "model = TFBertForSequenceClassification(cnfg)\n",
        "optimizer = tf.keras.optimizers.Adam(learning_rate=0.001, epsilon=1e-08, clipnorm=1.0)\n",
        "loss = tf.keras.losses.SparseCategoricalCrossentropy(from_logits=True)\n",
        "metric = tf.keras.metrics.SparseCategoricalAccuracy('accuracy')\n",
        "model.compile(optimizer=optimizer, loss=loss, metrics=[metric])\n",
        "history1 = model.fit(x=[train_ids, train_mask], \n",
        "     y=train_labels, \n",
        "     batch_size=batch_size, \n",
        "     epochs=epochs, \n",
        "     verbose=1, \n",
        "     callbacks=[BatchCallback()],\n",
        "     shuffle=True)\n",
        "\n",
        "cnfg = BertConfig(hidden_size=hidden_size, num_labels=4, num_hidden_layers=6, num_attention_heads=4, intermediate_size=1024)\n",
        "model = TFBertForSequenceClassification(cnfg)\n",
        "optimizer = tf.keras.optimizers.Adam(learning_rate=0.00001, epsilon=1e-08, clipnorm=1.0)\n",
        "loss = tf.keras.losses.SparseCategoricalCrossentropy(from_logits=True)\n",
        "metric = tf.keras.metrics.SparseCategoricalAccuracy('accuracy')\n",
        "model.compile(optimizer=optimizer, loss=loss, metrics=[metric])\n",
        "history2 = model.fit(x=[train_ids, train_mask], \n",
        "     y=train_labels, \n",
        "     batch_size=batch_size, \n",
        "     epochs=epochs, \n",
        "     verbose=1, \n",
        "     callbacks=[BatchCallback()],\n",
        "     shuffle=True)\n",
        "\n",
        "plot_graphs(history, history1, history2, 'accuracy', ['lr=0.0001','lr=0.001','lr=0.00001'])"
      ],
      "execution_count": 91,
      "outputs": [
        {
          "output_type": "stream",
          "text": [
            "Epoch 1/5\n",
            "469/469 [==============================] - 190s 405ms/step - loss: 0.4997 - accuracy: 0.8132\n",
            "Epoch 2/5\n",
            "469/469 [==============================] - 190s 406ms/step - loss: 0.2749 - accuracy: 0.9080\n",
            "Epoch 3/5\n",
            "469/469 [==============================] - 190s 406ms/step - loss: 0.2110 - accuracy: 0.9306\n",
            "Epoch 4/5\n",
            "469/469 [==============================] - 190s 406ms/step - loss: 0.1703 - accuracy: 0.9445\n",
            "Epoch 5/5\n",
            "469/469 [==============================] - 190s 406ms/step - loss: 0.1400 - accuracy: 0.9547\n",
            "Epoch 1/5\n",
            "469/469 [==============================] - 190s 406ms/step - loss: 1.3837 - accuracy: 0.2863\n",
            "Epoch 2/5\n",
            "469/469 [==============================] - 190s 405ms/step - loss: 1.0744 - accuracy: 0.4979\n",
            "Epoch 3/5\n",
            "469/469 [==============================] - 190s 406ms/step - loss: 0.9315 - accuracy: 0.5576\n",
            "Epoch 4/5\n",
            "469/469 [==============================] - 190s 406ms/step - loss: 0.7644 - accuracy: 0.7193\n",
            "Epoch 5/5\n",
            "469/469 [==============================] - 191s 406ms/step - loss: 0.5500 - accuracy: 0.8196\n"
          ],
          "name": "stdout"
        },
        {
          "output_type": "display_data",
          "data": {
            "image/png": "[encoded data removed]",
            "text/plain": [
              "<Figure size 432x288 with 1 Axes>"
            ]
          },
          "metadata": {
            "tags": [],
            "needs_background": "light"
          }
        }
      ]
    },
    {
      "cell_type": "code",
      "metadata": {
        "id": "uxK1g2MTmpyG",
        "colab_type": "code",
        "colab": {
          "base_uri": "https://localhost:8080/",
          "height": 639
        },
        "outputId": "9c0f9ea9-aab9-41ed-f7b6-ed3a29d0076c"
      },
      "source": [
        "cnfg = BertConfig(hidden_size=hidden_size, num_labels=4, num_hidden_layers=4, num_attention_heads=4, intermediate_size=1024)\n",
        "model = TFBertForSequenceClassification(cnfg)\n",
        "optimizer = tf.keras.optimizers.Adam(learning_rate=0.0001, epsilon=1e-08, clipnorm=1.0)\n",
        "loss = tf.keras.losses.SparseCategoricalCrossentropy(from_logits=True)\n",
        "metric = tf.keras.metrics.SparseCategoricalAccuracy('accuracy')\n",
        "model.compile(optimizer=optimizer, loss=loss, metrics=[metric])\n",
        "history1 = model.fit(x=[train_ids, train_mask], \n",
        "     y=train_labels, \n",
        "     batch_size=batch_size, \n",
        "     epochs=epochs, \n",
        "     verbose=1, \n",
        "     callbacks=[BatchCallback()],\n",
        "     shuffle=True)\n",
        "\n",
        "cnfg = BertConfig(hidden_size=hidden_size, num_labels=4, num_hidden_layers=8, num_attention_heads=4, intermediate_size=1024)\n",
        "model = TFBertForSequenceClassification(cnfg)\n",
        "optimizer = tf.keras.optimizers.Adam(learning_rate=0.0001, epsilon=1e-08, clipnorm=1.0)\n",
        "loss = tf.keras.losses.SparseCategoricalCrossentropy(from_logits=True)\n",
        "metric = tf.keras.metrics.SparseCategoricalAccuracy('accuracy')\n",
        "model.compile(optimizer=optimizer, loss=loss, metrics=[metric])\n",
        "history2 = model.fit(x=[train_ids, train_mask], \n",
        "     y=train_labels, \n",
        "     batch_size=batch_size, \n",
        "     epochs=epochs, \n",
        "     verbose=1, \n",
        "     callbacks=[BatchCallback()],\n",
        "     shuffle=True)\n",
        "\n",
        "plot_graphs(history, history1, history2, 'accuracy', ['layers=6','layers=4','layers=8'])"
      ],
      "execution_count": 92,
      "outputs": [
        {
          "output_type": "stream",
          "text": [
            "Epoch 1/5\n",
            "469/469 [==============================] - 130s 277ms/step - loss: 0.7812 - accuracy: 0.6499\n",
            "Epoch 2/5\n",
            "469/469 [==============================] - 130s 278ms/step - loss: 0.3573 - accuracy: 0.8846\n",
            "Epoch 3/5\n",
            "469/469 [==============================] - 130s 278ms/step - loss: 0.2761 - accuracy: 0.9105\n",
            "Epoch 4/5\n",
            "469/469 [==============================] - 130s 278ms/step - loss: 0.2293 - accuracy: 0.9252\n",
            "Epoch 5/5\n",
            "469/469 [==============================] - 131s 279ms/step - loss: 0.1964 - accuracy: 0.9365\n",
            "Epoch 1/5\n",
            "469/469 [==============================] - 252s 538ms/step - loss: 0.7180 - accuracy: 0.7082\n",
            "Epoch 2/5\n",
            "469/469 [==============================] - 252s 537ms/step - loss: 0.3451 - accuracy: 0.8887\n",
            "Epoch 3/5\n",
            "469/469 [==============================] - 252s 537ms/step - loss: 0.2724 - accuracy: 0.9116\n",
            "Epoch 4/5\n",
            "469/469 [==============================] - 252s 537ms/step - loss: 0.2306 - accuracy: 0.9257\n",
            "Epoch 5/5\n",
            "469/469 [==============================] - 252s 537ms/step - loss: 0.2019 - accuracy: 0.9342\n"
          ],
          "name": "stdout"
        },
        {
          "output_type": "display_data",
          "data": {
            "image/png": "[encoded data removed]",
            "text/plain": [
              "<Figure size 432x288 with 1 Axes>"
            ]
          },
          "metadata": {
            "tags": [],
            "needs_background": "light"
          }
        }
      ]
    },
    {
      "cell_type": "code",
      "metadata": {
        "id": "aaEtGy7aMAl5",
        "colab_type": "code",
        "colab": {
          "base_uri": "https://localhost:8080/",
          "height": 639
        },
        "outputId": "9b774031-ad9c-4e10-ded0-307af4d7a572"
      },
      "source": [
        "cnfg = BertConfig(hidden_size=hidden_size, num_labels=4, num_hidden_layers=6, num_attention_heads=2, intermediate_size=1024)\n",
        "model = TFBertForSequenceClassification(cnfg)\n",
        "optimizer = tf.keras.optimizers.Adam(learning_rate=0.0001, epsilon=1e-08, clipnorm=1.0)\n",
        "loss = tf.keras.losses.SparseCategoricalCrossentropy(from_logits=True)\n",
        "metric = tf.keras.metrics.SparseCategoricalAccuracy('accuracy')\n",
        "model.compile(optimizer=optimizer, loss=loss, metrics=[metric])\n",
        "history1 = model.fit(x=[train_ids, train_mask], \n",
        "     y=train_labels, \n",
        "     batch_size=batch_size, \n",
        "     epochs=epochs, \n",
        "     verbose=1, \n",
        "     callbacks=[BatchCallback()],\n",
        "     shuffle=True)\n",
        "\n",
        "cnfg = BertConfig(hidden_size=hidden_size, num_labels=4, num_hidden_layers=6, num_attention_heads=8, intermediate_size=1024)\n",
        "model = TFBertForSequenceClassification(cnfg)\n",
        "optimizer = tf.keras.optimizers.Adam(learning_rate=0.0001, epsilon=1e-08, clipnorm=1.0)\n",
        "loss = tf.keras.losses.SparseCategoricalCrossentropy(from_logits=True)\n",
        "metric = tf.keras.metrics.SparseCategoricalAccuracy('accuracy')\n",
        "model.compile(optimizer=optimizer, loss=loss, metrics=[metric])\n",
        "history2 = model.fit(x=[train_ids, train_mask], \n",
        "     y=train_labels, \n",
        "     batch_size=batch_size, \n",
        "     epochs=epochs, \n",
        "     verbose=1, \n",
        "     callbacks=[BatchCallback()],\n",
        "     shuffle=True)\n",
        "\n",
        "plot_graphs(history, history1, history2, 'accuracy', ['heads=4','heads=2','heads=8'])"
      ],
      "execution_count": 96,
      "outputs": [
        {
          "output_type": "stream",
          "text": [
            "Epoch 1/5\n",
            "469/469 [==============================] - 172s 366ms/step - loss: 0.8368 - accuracy: 0.6248\n",
            "Epoch 2/5\n",
            "469/469 [==============================] - 172s 366ms/step - loss: 0.3402 - accuracy: 0.8874\n",
            "Epoch 3/5\n",
            "469/469 [==============================] - 172s 366ms/step - loss: 0.2595 - accuracy: 0.9149\n",
            "Epoch 4/5\n",
            "469/469 [==============================] - 172s 366ms/step - loss: 0.2155 - accuracy: 0.9294\n",
            "Epoch 5/5\n",
            "469/469 [==============================] - 172s 366ms/step - loss: 0.1855 - accuracy: 0.9392\n",
            "Epoch 1/5\n",
            "469/469 [==============================] - 229s 489ms/step - loss: 0.7552 - accuracy: 0.6787\n",
            "Epoch 2/5\n",
            "469/469 [==============================] - 229s 489ms/step - loss: 0.3055 - accuracy: 0.8996\n",
            "Epoch 3/5\n",
            "469/469 [==============================] - 229s 489ms/step - loss: 0.2430 - accuracy: 0.9205\n",
            "Epoch 4/5\n",
            "469/469 [==============================] - 229s 488ms/step - loss: 0.2038 - accuracy: 0.9330\n",
            "Epoch 5/5\n",
            "469/469 [==============================] - 229s 488ms/step - loss: 0.1773 - accuracy: 0.9410\n"
          ],
          "name": "stdout"
        },
        {
          "output_type": "display_data",
          "data": {
            "image/png": "[encoded data removed]",
            "text/plain": [
              "<Figure size 432x288 with 1 Axes>"
            ]
          },
          "metadata": {
            "tags": [],
            "needs_background": "light"
          }
        }
      ]
    },
    {
      "cell_type": "code",
      "metadata": {
        "id": "9Ww8YYzuMA6E",
        "colab_type": "code",
        "colab": {
          "base_uri": "https://localhost:8080/",
          "height": 639
        },
        "outputId": "29815f7a-7af1-4a43-9205-c8f5bf7742f6"
      },
      "source": [
        "cnfg = BertConfig(hidden_size=64, num_labels=4, num_hidden_layers=6, num_attention_heads=4, intermediate_size=1024)\n",
        "model = TFBertForSequenceClassification(cnfg)\n",
        "optimizer = tf.keras.optimizers.Adam(learning_rate=0.0001, epsilon=1e-08, clipnorm=1.0)\n",
        "loss = tf.keras.losses.SparseCategoricalCrossentropy(from_logits=True)\n",
        "metric = tf.keras.metrics.SparseCategoricalAccuracy('accuracy')\n",
        "model.compile(optimizer=optimizer, loss=loss, metrics=[metric])\n",
        "history1 = model.fit(x=[train_ids, train_mask], \n",
        "     y=train_labels, \n",
        "     batch_size=batch_size, \n",
        "     epochs=epochs, \n",
        "     verbose=1, \n",
        "     callbacks=[BatchCallback()],\n",
        "     shuffle=True)\n",
        "\n",
        "cnfg = BertConfig(hidden_size=256, num_labels=4, num_hidden_layers=6, num_attention_heads=4, intermediate_size=1024)\n",
        "model = TFBertForSequenceClassification(cnfg)\n",
        "optimizer = tf.keras.optimizers.Adam(learning_rate=0.0001, epsilon=1e-08, clipnorm=1.0)\n",
        "loss = tf.keras.losses.SparseCategoricalCrossentropy(from_logits=True)\n",
        "metric = tf.keras.metrics.SparseCategoricalAccuracy('accuracy')\n",
        "model.compile(optimizer=optimizer, loss=loss, metrics=[metric])\n",
        "history2 = model.fit(x=[train_ids, train_mask], \n",
        "     y=train_labels, \n",
        "     batch_size=batch_size, \n",
        "     epochs=epochs, \n",
        "     verbose=1, \n",
        "     callbacks=[BatchCallback()],\n",
        "     shuffle=True)\n",
        "\n",
        "plot_graphs(history, history1, history2, 'accuracy', ['hidden=128','hidden=64','hidden=256'])"
      ],
      "execution_count": 97,
      "outputs": [
        {
          "output_type": "stream",
          "text": [
            "Epoch 1/5\n",
            "469/469 [==============================] - 151s 322ms/step - loss: 0.9564 - accuracy: 0.5490\n",
            "Epoch 2/5\n",
            "469/469 [==============================] - 152s 325ms/step - loss: 0.4460 - accuracy: 0.8547\n",
            "Epoch 3/5\n",
            "469/469 [==============================] - 152s 325ms/step - loss: 0.3266 - accuracy: 0.8967\n",
            "Epoch 4/5\n",
            "469/469 [==============================] - 152s 325ms/step - loss: 0.2790 - accuracy: 0.9122\n",
            "Epoch 5/5\n",
            "469/469 [==============================] - 152s 325ms/step - loss: 0.2454 - accuracy: 0.9226\n",
            "Epoch 1/5\n",
            "469/469 [==============================] - 288s 614ms/step - loss: 0.5743 - accuracy: 0.7669\n",
            "Epoch 2/5\n",
            "469/469 [==============================] - 288s 613ms/step - loss: 0.2738 - accuracy: 0.9089\n",
            "Epoch 3/5\n",
            "469/469 [==============================] - 288s 614ms/step - loss: 0.2201 - accuracy: 0.9261\n",
            "Epoch 4/5\n",
            "469/469 [==============================] - 288s 614ms/step - loss: 0.1858 - accuracy: 0.9372\n",
            "Epoch 5/5\n",
            "469/469 [==============================] - 288s 614ms/step - loss: 0.1598 - accuracy: 0.9458\n"
          ],
          "name": "stdout"
        },
        {
          "output_type": "display_data",
          "data": {
            "image/png": "[encoded data removed]",
            "text/plain": [
              "<Figure size 432x288 with 1 Axes>"
            ]
          },
          "metadata": {
            "tags": [],
            "needs_background": "light"
          }
        }
      ]
    }
  ]
}